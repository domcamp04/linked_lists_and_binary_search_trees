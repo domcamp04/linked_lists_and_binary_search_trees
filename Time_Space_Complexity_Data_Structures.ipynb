{
 "cells": [
  {
   "cell_type": "markdown",
   "metadata": {},
   "source": [
    "# Time/Space Complexity - Intro to Data Structures (User Defined)\n",
    "\n",
    "### Topics to discuss today:\n",
    "\n",
    "<ul>\n",
    "    <li>Time and Space Complexity - What is it/How do we measure it</li>\n",
    "    <li>Asymptotic Analysis</li>\n",
    "    <li><strong>Data Structures</strong></li>\n",
    "    <li>Some of the popular sorting algorithms</li>\n",
    "</ul>\n",
    "\n",
    "### Data Structures to discuss:\n",
    "- Arrays\n",
    "- Stacks\n",
    "- Queues\n",
    "- Linked Lists\n",
    "    - Singly Linked Lists\n",
    "    - Traversing A Linked List\n",
    "    - Finding a node in a linked list\n",
    "    - Adding to a linked list\n",
    "- Binary Search Trees\n",
    "    - Construction\n",
    "    - Traversal\n"
   ]
  },
  {
   "cell_type": "markdown",
   "metadata": {},
   "source": [
    "## Time and Space Complexity\n",
    "\n",
    "#### What is it?\n",
    "\n",
    "Time and space complexity is the measure of how much time a given action(function) will take to solve a problem. In the same fashion, we determine how much a given data structure will need in terms of memory allocation. A problem can have multiple solutions and finding the optimal solution for the problem needs to be analyzed in time and space.\n",
    "\n",
    "#### How do we measure Time and Space Complexity?\n",
    "\n",
    "In order to measure time and space complexity we use Asymptotic analysis. The reason for this is because we need a way to measure different algorithms (functions) based on the size of their inputs in a mathmatical way. For example, we could have a function that is computed as f(n) and another that is g(n^2). All things around the function staying constant, the only thing that changes is the size of the input. Below is the chart that shows the different Asymptotic analysis formats. "
   ]
  },
  {
   "cell_type": "markdown",
   "metadata": {},
   "source": [
    "<table style=\"text-align:center;\" class=\"table table-bordered\">\n",
    "<tbody><tr>\n",
    "<td>constant</td>\n",
    "<td>−</td>\n",
    "<td>Ο(1)</td>\n",
    "</tr>\n",
    "<tr>\n",
    "<td>logarithmic</td>\n",
    "<td>−</td>\n",
    "<td>Ο(log n)</td>\n",
    "</tr>\n",
    "<tr>\n",
    "<td>linear</td>\n",
    "<td>−</td>\n",
    "<td>Ο(n)</td>\n",
    "</tr>\n",
    "<tr>\n",
    "<td>Linear Logarithmic</td>\n",
    "<td>−</td>\n",
    "<td>Ο(n log n)</td>\n",
    "</tr>\n",
    "<tr>\n",
    "<td>quadratic</td>\n",
    "<td>−</td>\n",
    "<td>Ο(n<sup>2</sup>)</td>\n",
    "</tr>\n",
    "<tr>\n",
    "<td>cubic</td>\n",
    "<td>−</td>\n",
    "<td>Ο(n<sup>3</sup>)</td>\n",
    "</tr>\n",
    "<tr>\n",
    "<td>polynomial</td>\n",
    "<td>−</td>\n",
    "<td>n<sup>Ο(1)</sup></td>\n",
    "</tr>\n",
    "<tr>\n",
    "<td>exponential</td>\n",
    "<td>−</td>\n",
    "<td>2<sup>Ο(n)</sup></td>\n",
    "</tr>\n",
    "</tbody></table>"
   ]
  },
  {
   "cell_type": "markdown",
   "metadata": {},
   "source": [
    "## Arrays"
   ]
  },
  {
   "cell_type": "markdown",
   "metadata": {},
   "source": [
    "In python we benefit from the dynamic array which means the block of memory will expand as needed for the given input to the array. In traditional arrays (depending on the type of operating system) we will usually store our inputs in 4 or 8 consecutive blocks of memory. Below is a diagram of how that looks under the hood:\n",
    "\n",
    "<img src=\"http://www.mathcs.emory.edu/~cheung/Courses/170/Syllabus/09/FIGS/array02x.gif\" style=\"height:250px; width:350px;\">"
   ]
  },
  {
   "cell_type": "markdown",
   "metadata": {},
   "source": [
    "## Which in python looks like this:"
   ]
  },
  {
   "cell_type": "code",
   "execution_count": null,
   "metadata": {},
   "outputs": [],
   "source": []
  },
  {
   "cell_type": "markdown",
   "metadata": {},
   "source": [
    "### Let's take a look at some of the time and space analysis of arrays"
   ]
  },
  {
   "cell_type": "code",
   "execution_count": null,
   "metadata": {},
   "outputs": [],
   "source": []
  },
  {
   "cell_type": "markdown",
   "metadata": {},
   "source": [
    "## Stacks and Queues (Review)\n",
    "\n",
    "** Stacks ** as the name suggests is a data structure that allows for data to follow the Last In First Out priciple(LIFO). Think of a stack of pancakes for example. To get the first pancake you would  start with the top and go down.\n",
    "\n",
    "##### Searching through a stack will be Linear Time O(n) - Constant Space O(1)\n",
    "##### Selecting the last item will be done in Constant Time O(1) - Constant Space O(1)\n",
    "##### Adding to the stack should take Constant Time O(1) - Constant Space O(1)\n",
    "\n",
    "** Queues ** are similar but in this case follow the First In First Out principle(FIFO). Think of this as a line in a black friday sale. The first person camped out for the big screen tv is the first to get it.\n",
    "\n",
    "##### Searching through a queue will be Linear Time O(n) - Constant Space O(1)\n",
    "##### Selecting the first item will be done in Constant Time O(1) - Constant Space O(1)\n",
    "##### Adding to the queue should take Constant Time O(1) - Constant Space O(1)"
   ]
  },
  {
   "cell_type": "code",
   "execution_count": null,
   "metadata": {},
   "outputs": [],
   "source": []
  },
  {
   "cell_type": "markdown",
   "metadata": {},
   "source": [
    "## Linked List (Data Structure)\n",
    "\n",
    "A linked list is created by using the node class. We create a Node object and create another class to use this node object. We pass the appropriate values thorugh the node object to point the to the next data elements.\n",
    "\n",
    "There are some advantages and disadvantages with this data structure. **Advantages** Linked Lists can save memory because they can be flexibile with memory management which saves memory. **Disadvantages** Finding or adding to the list requires traversing the entire list."
   ]
  },
  {
   "cell_type": "code",
   "execution_count": 6,
   "metadata": {},
   "outputs": [
    {
     "name": "stdout",
     "output_type": "stream",
     "text": [
      "mon\n",
      "tues\n",
      "wed\n"
     ]
    }
   ],
   "source": [
    "class LinkedListNode:\n",
    "    def __init__(self, value):\n",
    "        self.value = value\n",
    "        self.next = None\n",
    "        \n",
    "    def traverse_list(self):\n",
    "        node = self\n",
    "        while node != None:\n",
    "            print(node.value)\n",
    "            node = node.next\n",
    "node1 = LinkedListNode('mon')\n",
    "node2 = LinkedListNode('tues')\n",
    "node3 = LinkedListNode('wed')\n",
    "\n",
    "node1.next = node2\n",
    "node2.next = node3\n",
    "\n",
    "node1.traverse_list()"
   ]
  },
  {
   "cell_type": "code",
   "execution_count": null,
   "metadata": {},
   "outputs": [],
   "source": []
  },
  {
   "cell_type": "markdown",
   "metadata": {},
   "source": [
    "## Binary Search Trees"
   ]
  },
  {
   "cell_type": "code",
   "execution_count": null,
   "metadata": {},
   "outputs": [],
   "source": []
  },
  {
   "cell_type": "markdown",
   "metadata": {},
   "source": [
    "# Homework"
   ]
  },
  {
   "cell_type": "markdown",
   "metadata": {},
   "source": [
    "#### Problem 1: Linked Lists\n",
    "\n",
    "Using the above examples as a guide, create your own interpretation of the a Linked List class. You can not use the code above exactly, but again it can be used as a guide. This problem requires you to think about how a linked list works and create one using your own logic.\n",
    "\n",
    "*Remember* A Linked List is a list of Nodes that point to the next node in the chain. The first Node starts out as Empty(None) and each node after points to the next.\n",
    "\n",
    "Your Linked List should have a traverse method and have the ability to add a new node"
   ]
  },
  {
   "cell_type": "code",
   "execution_count": 14,
   "metadata": {},
   "outputs": [
    {
     "name": "stdout",
     "output_type": "stream",
     "text": [
      "Packers\n",
      "Bears\n",
      "Vikings\n",
      "lions\n"
     ]
    }
   ],
   "source": [
    "class Node():\n",
    "    def __init__(self,value):\n",
    "        self.value = value\n",
    "        self.next = None\n",
    "        \n",
    "class LinkedList():\n",
    "    def __init__(self):\n",
    "        self.head = None\n",
    "        \n",
    "    def pushOn(self, new_value):\n",
    "        new_node = Node(new_value)\n",
    "        new_node.next = self.head\n",
    "        self.head = new_node\n",
    "        \n",
    "    def insertAfter(self,prev_node,new_value):\n",
    "        if prev_node is None:\n",
    "            print(\"The given previous node must not be empty!\")\n",
    "            return\n",
    "        new_node = Node(new_value)\n",
    "        new_node.next = prev_node.next\n",
    "        prev_node.next = new_node\n",
    "    \n",
    "    def append(self,new_value):\n",
    "        new_node = Node(new_value)\n",
    "        \n",
    "        if self.head is None:\n",
    "            self.head = new_node\n",
    "        last = self.head\n",
    "        \n",
    "        while(last.next):\n",
    "            last = last.next\n",
    "        last.next = new_node\n",
    "        \n",
    "    def traverse(self):\n",
    "        rank = self.head\n",
    "        while(rank):\n",
    "            print(rank.value)\n",
    "            rank = rank.next\n",
    "            \n",
    "playoff_race = LinkedList()\n",
    "\n",
    "playoff_race.pushOn('Packers')\n",
    "playoff_race.append('Bears')\n",
    "playoff_race.append('lions')\n",
    "playoff_race.insertAfter(playoff_race.head.next,\"Vikings\")                         \n",
    "playoff_race.traverse()"
   ]
  },
  {
   "cell_type": "markdown",
   "metadata": {},
   "source": [
    "#### Problem 2: Binary Search Tree\n",
    "\n",
    "Using the above examples as a guide, create your own interpretation of the a Binary Search Tree class. You can not use the code above exactly, but again it can be used as a guide. This problem requires you to think about how a Binary Search Tree works and create one using your own logic.\n",
    "\n",
    "*Remember* Binary Search Trees start with a head node and each node to the left of that will be smaller, each node to the right of it will be greater. The far left node should be the lowest number(if one exists) that is available. The far right node (if one exists) should be the greatest number"
   ]
  },
  {
   "cell_type": "code",
   "execution_count": 30,
   "metadata": {},
   "outputs": [
    {
     "name": "stdout",
     "output_type": "stream",
     "text": [
      "Pre-sort\n",
      "10\n",
      "6\n",
      "2\n",
      "9\n",
      "7\n",
      "15\n",
      "Done Sorting\n",
      "2\n",
      "6\n",
      "7\n",
      "9\n",
      "10\n",
      "15\n"
     ]
    },
    {
     "data": {
      "text/plain": [
       "'9 is in the list'"
      ]
     },
     "execution_count": 30,
     "metadata": {},
     "output_type": "execute_result"
    }
   ],
   "source": [
    "class Node:\n",
    "    def __init__(self, value):\n",
    "        self.value = value\n",
    "        self.left_child = None\n",
    "        self.right_child = None\n",
    "        \n",
    "    def insert(self, data):\n",
    "        if self.value == data:\n",
    "            return False\n",
    "        elif self.value > data:\n",
    "            if self.left_child:\n",
    "                return self.left_child.insert(data)\n",
    "            else:\n",
    "                self.left_child = Node(data)\n",
    "                return True\n",
    "        else:\n",
    "            if self.right_child:\n",
    "                return self.right_child.insert(data)\n",
    "            else:\n",
    "                self.right_child = Node(data)\n",
    "                return True\n",
    "\n",
    "    def find(self, data):\n",
    "        if(self.value == data):\n",
    "            return f'{self.value} is in the list'\n",
    "        elif self.value > data:\n",
    "            if self.left_child:\n",
    "                return self.left_child.find(data)\n",
    "            else:\n",
    "                return False\n",
    "        else:\n",
    "            if self.right_child:\n",
    "                return self.right_child.find(data)\n",
    "            else:\n",
    "                return False\n",
    "    \n",
    "    def pre_sort(self):\n",
    "        if self:\n",
    "            print(str(self.value))\n",
    "            if self.left_child:\n",
    "                self.left_child.pre_sort()\n",
    "            if self.right_child:\n",
    "                self.right_child.pre_sort()\n",
    "                \n",
    "    def done_sort(self):\n",
    "        if self:       \n",
    "            if self.left_child:\n",
    "                self.left_child.done_sort()\n",
    "            print(str(self.value))\n",
    "            if self.right_child:\n",
    "                self.right_child.done_sort()\n",
    "    \n",
    "    \n",
    "class tree:\n",
    "    def __init__(self):\n",
    "        self.root = None\n",
    "        \n",
    "    def insert(self, data):\n",
    "        if self.root:\n",
    "            return self.root.insert(data)\n",
    "        else:\n",
    "            self.root = Node(data)\n",
    "            return True\n",
    "        \n",
    "    def find(self, data):\n",
    "        if self.root:\n",
    "            return self.root.find(data)\n",
    "        else:\n",
    "            return False\n",
    "        \n",
    "    def pre_sort(self):\n",
    "        print('Pre-sort')\n",
    "        self.root.pre_sort()\n",
    "        \n",
    "    def done_sort(self):\n",
    "        print('Done Sorting')\n",
    "        self.root.done_sort()\n",
    "        \n",
    "        \n",
    "new_tree = tree()\n",
    "new_tree.insert(10)\n",
    "new_tree.insert(6)\n",
    "new_tree.insert(2)\n",
    "new_tree.insert(9)\n",
    "new_tree.insert(7)\n",
    "new_tree.insert(15)\n",
    "new_tree.pre_sort()\n",
    "new_tree.done_sort()\n",
    "new_tree.find(9)\n",
    "# new_tree.find(18)"
   ]
  },
  {
   "cell_type": "code",
   "execution_count": null,
   "metadata": {},
   "outputs": [],
   "source": []
  }
 ],
 "metadata": {
  "kernelspec": {
   "display_name": "Python 3",
   "language": "python",
   "name": "python3"
  },
  "language_info": {
   "codemirror_mode": {
    "name": "ipython",
    "version": 3
   },
   "file_extension": ".py",
   "mimetype": "text/x-python",
   "name": "python",
   "nbconvert_exporter": "python",
   "pygments_lexer": "ipython3",
   "version": "3.8.8"
  }
 },
 "nbformat": 4,
 "nbformat_minor": 2
}
